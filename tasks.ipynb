{
 "cells": [
  {
   "cell_type": "markdown",
   "metadata": {},
   "source": [
    "# Fundamentals of Data Analysis Tasks\n",
    "\n",
    "**Edward Cronin ATU Student G00425645**\n",
    "\n",
    "***"
   ]
  },
  {
   "cell_type": "markdown",
   "metadata": {},
   "source": [
    "## Task 1\n",
    "\n",
    "The Collatz conjecture is a famous unsolved problem in mathematics.  The problem is to prove that if you start with any positive integer $x$ and repeatedly apply the function $f(x)$ below, you always get stuck in the repeating sequence 1, 4, 2, 1, 4, 2,...\n",
    "\n",
    "$$ f(x) = \\begin{cases}\n",
    "x\\div 2 & \\text{if $x$ is even} \\\\\n",
    "3x+1 & \\text{otherwise}\n",
    "\\end{cases} $$\n",
    "\n",
    "For example, starting with the value 10, which is an even number , we divide it by 2 to get 5.  Then 5 is an odd number so, we multiply by 3 and add 1 to get 16.  Then we repeatedly divide by 2 to get 8, 4, 2, 1. Once we are at 1, we go back to 4 and get stuck in the repeating sequence 4,2,1 as we suspected.\n",
    "\n",
    "Your task is to verify, using Python, that the conjecture is true for the first 10000 positive integers.\n"
   ]
  },
  {
   "cell_type": "markdown",
   "metadata": {},
   "source": [
    "***\n",
    "\n",
    "**As requested, this task aims to verify that the conjecture is valid for the first 10,000 positive integers. There are three parts to completing this task. Part A will ascertain if the Collatz equation is valid for one singular number. Part B will then verify, using Python, that the conjecture is true for any number in the first 10,000 positive integer range.  A message wll be displayed if the number entered is outside this range.  Part C will display every one of the first 10,000 positive integers and each numbers sequence.  It was decided to take two different approaches to performing this task.  Part B will only verify one number within the first 10,000 positive number range and will display a message if outside this range. Part C allows for every number within the range.  Each Part could be considered a relevant solution to the question in their own right, however both are presented to cover every aspect.**"
   ]
  },
  {
   "cell_type": "markdown",
   "metadata": {},
   "source": [
    "**Part A : Ascertain if the Collatz equation is valid for one singular number**"
   ]
  },
  {
   "cell_type": "markdown",
   "metadata": {},
   "source": [
    "To complete this task, verifying the above equation for one number is necessary before assessing that the conjecture is true for the first 10000 positive integers. To do this, a singular value is given to x and the formula is run until we get stuck in a repeating sequence 4, 2, 1.  "
   ]
  },
  {
   "cell_type": "code",
   "execution_count": null,
   "metadata": {},
   "outputs": [],
   "source": [
    "x = 5"
   ]
  },
  {
   "cell_type": "code",
   "execution_count": null,
   "metadata": {},
   "outputs": [],
   "source": [
    "def f(x):\n",
    "    \n",
    "     # If x is even, divide it by two.  \n",
    "        if x % 2 == 0:\n",
    "            return x//2\n",
    "    # If x is odd multipy by three and add one to result.\n",
    "        else:\n",
    "            return (3*x) +1\n",
    "    \n",
    "    "
   ]
  },
  {
   "cell_type": "code",
   "execution_count": null,
   "metadata": {},
   "outputs": [],
   "source": [
    "x = f(x)\n",
    "x"
   ]
  },
  {
   "cell_type": "code",
   "execution_count": null,
   "metadata": {},
   "outputs": [],
   "source": [
    "x = f(x)\n",
    "x"
   ]
  },
  {
   "cell_type": "code",
   "execution_count": null,
   "metadata": {},
   "outputs": [],
   "source": [
    "x = f(x)\n",
    "x"
   ]
  },
  {
   "cell_type": "code",
   "execution_count": null,
   "metadata": {},
   "outputs": [],
   "source": [
    "x = f(x)\n",
    "x"
   ]
  },
  {
   "cell_type": "code",
   "execution_count": null,
   "metadata": {},
   "outputs": [],
   "source": [
    "x = f(x)\n",
    "x"
   ]
  },
  {
   "cell_type": "code",
   "execution_count": null,
   "metadata": {},
   "outputs": [],
   "source": [
    "x = f(x)\n",
    "x"
   ]
  },
  {
   "cell_type": "markdown",
   "metadata": {},
   "source": [
    "The inputted number 5 resulted in a sequence of 16, 8, 4, 2, 1, 4 .....\n",
    "\n",
    "***"
   ]
  },
  {
   "cell_type": "markdown",
   "metadata": {},
   "source": [
    "**Part B : Display the loop of an inputted integer Within Range 1 : 100001**\n",
    "\n",
    "This part will display the loop of an inputted integer within the range 1 : 10001 and will display its respective sequence. Inputs outside this range will result in an message being display.  The function checks if x is even or odd. If x is even, it divides x by 2. If x is odd, it multiplies x by 3 and adds 1 to the product. The function then repeats until x becomes 1"
   ]
  },
  {
   "cell_type": "code",
   "execution_count": null,
   "metadata": {},
   "outputs": [],
   "source": [
    "def collatz(x):\n",
    "    \n",
    "    # If x is less than 1 or greater than 10001, return an error message.\n",
    "        if x < 1 or x > 10001:\n",
    "            return (\"Enter a positive integer between 1 and 10001\")\n",
    "    # Return a sequence in the form of a list\n",
    "        sequence = [x]\n",
    "    # If x is even, divide it by two; If x is odd, multipy by three and add one to result.\n",
    "        while x != 1:\n",
    "            if x % 2 == 0:\n",
    "                x //= 2\n",
    "            else:\n",
    "                x = 3 * x + 1\n",
    "            sequence.append(x)\n",
    "        return sequence"
   ]
  },
  {
   "cell_type": "code",
   "execution_count": null,
   "metadata": {},
   "outputs": [],
   "source": [
    "collatz(10000)"
   ]
  },
  {
   "cell_type": "markdown",
   "metadata": {},
   "source": [
    "The value entered within brackets () will be displayed as a sequence of numbers which end up with the number 1, sometimes referred to as a hailstone sequence.  A message will be displayed if the numbers inputted is above 10001 or below 1.\n",
    "\n",
    "***"
   ]
  },
  {
   "cell_type": "markdown",
   "metadata": {},
   "source": [
    "**Part C: Display the first 10,000 positive integer number range and the related sequence for each value displayed.**"
   ]
  },
  {
   "cell_type": "markdown",
   "metadata": {},
   "source": [
    "**In order to generate a list of the first 10,000 positive integers, it is necessary to generate a sequence of ALL numbers in the range 1 and 10001.  The result will be indiviual collatz sequences for every number in the data range.**"
   ]
  },
  {
   "cell_type": "code",
   "execution_count": null,
   "metadata": {},
   "outputs": [],
   "source": [
    "def collatz(x):\n",
    " # Return each sequence in the form of a list\n",
    "    sequence = [x]\n",
    "    if x < 1:\n",
    "        return []\n",
    "    while x != 1:\n",
    "        if x % 2 == 0:\n",
    "            x = x // 2\n",
    "        else:\n",
    "            x = 3 * x + 1\n",
    "        sequence.append(x)\n",
    "    return sequence"
   ]
  },
  {
   "cell_type": "markdown",
   "metadata": {},
   "source": [
    "The function above initializes a sequence list with the input value x. It then enters a loop that continues until x equals 1. In each iteration of the loop, it checks whether x is even or odd. If x is even, it divides x by 2 and appends the result to the sequence list. If x is odd, it multiplies x by 3 and adds 1, then appends the result to the list. The loop continues until x equals 1, at which point the function returns the complete sequence."
   ]
  },
  {
   "cell_type": "code",
   "execution_count": null,
   "metadata": {},
   "outputs": [],
   "source": [
    "for number in range(1, 10001):\n",
    "    print(f\"Collatz sequence for {number} is: {collatz(number)}\")"
   ]
  },
  {
   "cell_type": "markdown",
   "metadata": {},
   "source": [
    "The data range is specified above to be between 1 and 10001, this gives the first 10000 positive integers. The result is then printed out from smallest to largest, in the order 1 to 10,000.  Each number is also displayed in list view with the sequence next it.  From examination of the findings, each sequence ends at 1.\n",
    "\n",
    "**It was not possible to upload the results of the above code to the repository, screen shots can be provided or the results can be viewed by running the above code**"
   ]
  },
  {
   "cell_type": "markdown",
   "metadata": {},
   "source": [
    "***\n",
    "\n",
    "\n",
    "## End"
   ]
  },
  {
   "cell_type": "markdown",
   "metadata": {},
   "source": [
    "***\n",
    "\n",
    "## Task 2\n",
    "\n",
    "Give an overview of the famous penguins data set, explaining the types of variables it contains. Suggest the types of variables that should be used to model them in Python, explaining your rationale."
   ]
  },
  {
   "cell_type": "markdown",
   "metadata": {},
   "source": [
    "### Overview of Penguins Data Set\n",
    "\n",
    "**Meet the Palmer Penguins**\n",
    ">“Artwork by @allison_horst”\n",
    "\n",
    "![Meet the Palmer penguins](Images/threepenguins.png)"
   ]
  },
  {
   "cell_type": "markdown",
   "metadata": {},
   "source": [
    "### Background to Penguins Data Set\n",
    "\n",
    "The Palmer Archipelago, Antarctica is home to three species of penguins: Adélie, Chinstrap, and Gentoo. The Penguin dataset is a collection of data on penguins that was collected from 2007-2009 by Dr. Kristen Gorman with the Palmer Station Long Term Ecological Research Program, part of the US Long Term Ecological Research Network. The dataset was made available by Allison Horst on Github and contains several types of data, including categorical, continuous, and boolean data.  \n",
    "\n",
    "*The purpose of the dataset is to monitor changes in penguin population.  The dataset is known as palmerpenguins and its goal is to provide a great dataset for data exploration & visualization, as an alternative to iris.*\n",
    " "
   ]
  },
  {
   "cell_type": "markdown",
   "metadata": {},
   "source": [
    "### Types of Variables in Dataset\n",
    "\n",
    " The dataset contains 344 rows and 7 columns. The variables in the dataset are:\n",
    "\n",
    "- **Species:** The species of the penguin (Adelie, Gentoo, or Chinstrap).\n",
    "- **Island:** The island where the penguin was observed (Biscoe, Dream, or Torgersen).\n",
    "- **Bill_length_mm:** The length of the penguin’s bill in millimeters.\n",
    "- **Bill_depth_mm:** The depth of the penguin’s bill in millimeters.\n",
    "- **Flipper_length_mm:** The length of the penguin’s flipper in millimeters.\n",
    "- **Body_mass_g:** The body mass of the penguin in grams.\n",
    "- **Sex:** The sex of the penguin (male or female)."
   ]
  },
  {
   "cell_type": "markdown",
   "metadata": {},
   "source": [
    "### Level of measurement\n",
    "\n",
    "*Level of measurement* or *scale of measure* is a classification that describes the nature of information within the values assigned to variables. Psychologist Stanley Smith Stevens developed the best-known classification with four levels, or scales, of measurement: *nominal, ordinal, interval, and ratio*. The following image summarise each variable type and what information it relates to'. Each of the above variables falls within one of the measurments in the following chart:\n",
    "\n",
    "![On the theory of scales of measurement](Images/scaleOfMeasurement.png)\n",
    "\n",
    "The seven listed variables hereunder are either Categorical or Continuous variables.  Categorical variables are measured in the nominal scale of measurement, which is the lowest level of measurement in the Stevens scale above.  In this scale, nominal numbers do not carry any more information than group membership.  Continuous variables are those that can take on any value within a certain range. Examples include height, weight, and temperature.  According to Steven's clasification system, continuous variables can be either interval or ratio scale data. This data is displayedin the ratio category above.\n",
    "\n",
    "- species: categorical variable indicating the species of the penguin.\n",
    "- island: categorical variable indicating the island where the penguin was observed.\n",
    "- bill_length_mm: continuous variable indicating the length of the penguin’s bill in millimeters.\n",
    "- bill_depth_mm: continuous variable indicating the depth of the penguin’s bill in millimeters.\n",
    "- flipper_length_mm: continuous variable indicating the length of the penguin’s flipper in millimeters.\n",
    "- body_mass_g: continuous variable indicating the body mass of the penguin in grams.\n",
    "- sex: categorical variable indicating the sex of the penguin.\n",
    "\n",
    "source: https://en.wikipedia.org/wiki/Level_of_measurement"
   ]
  },
  {
   "cell_type": "markdown",
   "metadata": {},
   "source": [
    "***\n",
    "\n",
    "### Types of variables that should be used in Python"
   ]
  },
  {
   "cell_type": "markdown",
   "metadata": {},
   "source": [
    "All variables in this data set can be used within Python and can be displayed using visualisation programmes such as matplotlib and Seaborn. It is important to note that the choice of variables to use in a model depends on the problem being solved.  The following four questions.  Each question is answered below.  Each answer will outline the relevant variable(s) necessary to produce the answer and what plot could be utilised to visualise the data.\n",
    "\n",
    "- Which species's bill's are longer / have more depth than the others?\n",
    "- How many Flipper's are the same length, are there other lengths, if so, what are their length and numbers ?\n",
    "- What is the length of flippers based broken into Penguin Species ?\n",
    "- Whats is the penguin gender broken down into male / female on each Island ?\n"
   ]
  },
  {
   "cell_type": "markdown",
   "metadata": {},
   "source": [
    "***\n",
    "\n",
    "**To display which species's bill's are longer or which species bill's have more depth than the others, `bill_length_mm` and `bill_depth_mm` would be variables to include in the model.  A scatterplot would be utilised to display this data**\n",
    " \n",
    "The `bill_length_mm` and `bill_depth_mm` variables are numeric.  Through using a scatter plot it would possible to differentiate each species based on the bill (culmen) Length and Depth. From viewing the graph below, the following can be viewed\n",
    "\n",
    "- Gentoo's species' bill length is longer than Adelie but similar in length to Chinstrap.  It is smaller in depth than Adelie however \n",
    "- Adelie's species' bill length is shorter than the other two species.  It is similar in depth to Chinstrap, but smaller in depth than Gentoo\n",
    "- Chinstrap's species' bill length is longer than Adelie but similar in depth to it.  It is longer in length than Gentoo\n",
    "\n",
    "![Scatter Plot of Bill Length _ Width](Images/Bill_Length_Width.png)\n",
    "\n",
    "  source: https://www.kaggle.com/code/tirendazacademy/penguin-dataset-data-visualization-with-seaborn "
   ]
  },
  {
   "cell_type": "markdown",
   "metadata": {},
   "source": [
    "***\n",
    "\n",
    "**To display the numbers of penguins based on the length of their flippers , `flipper_length_mm` are variables to include in the model. A histplot would be utilised to display this data**\n",
    "\n",
    "![Scatter Plot of Flipper Length](Images/Flipper_Length.png)\n",
    "\n",
    "  source: https://www.kaggle.com/code/tirendazacademy/penguin-dataset-data-visualization-with-seaborn \n",
    " "
   ]
  },
  {
   "cell_type": "markdown",
   "metadata": {},
   "source": [
    "***\n",
    "\n",
    "**To display the length of their flippers based on Penguin Species, `flipper_length_mm` and `species` are variables to include in the model.  A boxplot would be utilised to display this data**\n",
    "\n",
    "![box plot of flipper per species](Images/Flipper_Length_Species.png)\n",
    "\n",
    "  source: https://www.kaggle.com/code/tirendazacademy/penguin-dataset-data-visualization-with-seaborn \n",
    " "
   ]
  },
  {
   "cell_type": "markdown",
   "metadata": {},
   "source": [
    "***\n",
    "\n",
    "**To display the gender on each island, `Island` and `Sex` are variables to include in the model.  A FacetGrid would be utilised to display this data**\n",
    "\n",
    "![Facet Grid of Gener in each Island](Images/Island_Gender.png)\n",
    "\n",
    "  source: https://www.kaggle.com/code/tirendazacademy/penguin-dataset-data-visualization-with-seaborn \n",
    " "
   ]
  },
  {
   "cell_type": "markdown",
   "metadata": {},
   "source": [
    "\n",
    "***\n",
    "\n",
    "## END\n"
   ]
  }
 ],
 "metadata": {
  "kernelspec": {
   "display_name": "Python 3 (ipykernel)",
   "language": "python",
   "name": "python3"
  },
  "language_info": {
   "codemirror_mode": {
    "name": "ipython",
    "version": 3
   },
   "file_extension": ".py",
   "mimetype": "text/x-python",
   "name": "python",
   "nbconvert_exporter": "python",
   "pygments_lexer": "ipython3",
   "version": "3.11.5"
  }
 },
 "nbformat": 4,
 "nbformat_minor": 2
}
